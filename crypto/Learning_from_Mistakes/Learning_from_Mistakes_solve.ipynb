{
 "cells": [
  {
   "cell_type": "markdown",
   "id": "39408702",
   "metadata": {},
   "source": [
    "Ce challenge aborde le cryptosystème **LWE** *(Learning With Errors)* (Voir https://fr.wikipedia.org/wiki/Apprentissage_avec_erreurs). Cependant, on se rend après quelques lectures du programme que cette version de **LWE** est une version alternative s'appellant **ILWE** *(Integer Learning With Errors)* qui est une version de **LWE** sans réduction modulaire. On a donc le problème ILWE devant nous qui s'écrit plus formellement: \n",
    "\n",
    "Disposant de $m$ échantillons de la forme $(a_i,_bi)$,\n"
   ]
  },
  {
   "cell_type": "code",
   "execution_count": 37,
   "id": "293a2e89",
   "metadata": {},
   "outputs": [
    {
     "name": "stdout",
     "output_type": "stream",
     "text": [
      "[x] Opening connection to 0.0.0.0 on port 4000\n",
      "[x] Opening connection to 0.0.0.0 on port 4000: Trying 0.0.0.0\n",
      "[+] Opening connection to 0.0.0.0 on port 4000: Done\n",
      "Congrats!! Here is the flag: FCSC{b50ceb3b41dbc0bcb50a54f9bac51bcff34856f5a17346dd6754673355609c48}\n",
      "\n",
      "[*] Closed connection to 0.0.0.0 port 4000\n"
     ]
    }
   ],
   "source": [
    "from pwn import *\n",
    "from Crypto.Random.random import getrandbits\n",
    "import re\n",
    "\n",
    "host = '0.0.0.0'\n",
    "port = '4000'\n",
    "\n",
    "r = remote(host,port)\n",
    "n = 64\n",
    "\n",
    "def get_n_samples(r,n):\n",
    "    \n",
    "    assert n > 0\n",
    "    \n",
    "    command = 's'\n",
    "    A = []\n",
    "    B = []\n",
    "    \n",
    "    r.recv()\n",
    "    for i in range(n):\n",
    "        r.sendline(command.encode())\n",
    "        data = r.recvuntil(b'>>>').decode()\n",
    "        sample_a = vector(ZZ,list(map(int, re.search(r'\\[(.*?)\\]', data).group(1).split(', '))))\n",
    "        sample_b = Integer(re.search(r'\\]\\n(\\d+)', data).group(1))\n",
    "        A.append(sample_a)\n",
    "        B.append(sample_b)\n",
    "            \n",
    "    return Matrix(ZZ,A), vector(ZZ,B)\n",
    "    \n",
    "A,B = get_n_samples(r,n)\n",
    "M=(identity_matrix(n).augment(A.transpose())).stack(vector([0]*n + list(-B)))  \n",
    "reduced_lattice = M.LLL()\n",
    "secret = reduced_lattice.row(-1)[:n]\n",
    "\n",
    "r.sendline(b'f')\n",
    "r.recvuntil(b'Enter the server secret: ')\n",
    "r.sendline(str(list(secret)).encode())\n",
    "print(r.recv().decode())\n",
    "r.close()"
   ]
  },
  {
   "cell_type": "code",
   "execution_count": 85,
   "id": "d8ccd67e",
   "metadata": {},
   "outputs": [
    {
     "name": "stdout",
     "output_type": "stream",
     "text": [
      "96.0\n"
     ]
    }
   ],
   "source": [
    "e =  130\n",
    "n =  64\n",
    "q = 128\n",
    "\n",
    "def randomize_secret(n):\n",
    "\treturn [ getrandbits(q) for _ in range(n) ]\n",
    "\n",
    "def dot(a, b):\n",
    "\treturn sum(x * y for x, y in zip(a, b))\n",
    "\n",
    "def LWE(s):\n",
    "\ta = [ getrandbits(q) for _ in range(n)]\n",
    "\treturn (a, dot(a, s) + getrandbits(e))\n",
    "\n",
    "\n",
    "\n",
    "import math\n",
    "\n",
    "def calculate_standard_deviation(q, e):\n",
    "    sigma_a = (2 ** q) / math.sqrt(12)\n",
    "    sigma_e = (2 ** e) / math.sqrt(12)\n",
    "    return sigma_a, sigma_e\n",
    "\n",
    "def calculate_samples_needed(n, sigma_a, sigma_e):\n",
    "    m = math.log2(n) * (sigma_e / sigma_a) ** 2\n",
    "    return m\n",
    "\n",
    "\n",
    "sigma_a, sigma_e = calculate_standard_deviation(q, e)\n",
    "m = calculate_samples_needed(n, sigma_a, sigma_e)\n",
    "\n",
    "\n",
    "print(m)"
   ]
  },
  {
   "cell_type": "code",
   "execution_count": 86,
   "id": "0ee29b0c",
   "metadata": {},
   "outputs": [],
   "source": [
    "s = randomize_secret(n)\n",
    "A = []\n",
    "B = []\n",
    "for i in range(3*n):\n",
    "    a,b = LWE(s)\n",
    "    A.append(a)\n",
    "    B.append(b)\n",
    "\n",
    "A = matrix(ZZ,A)\n",
    "B = vector(ZZ,B)\n",
    "\n",
    "produit = matrix(RR,A.transpose()*A)\n",
    "\n",
    "assert produit.is_invertible()\n",
    "\n",
    "S = produit.inverse()*A.transpose()*B\n"
   ]
  },
  {
   "cell_type": "code",
   "execution_count": 87,
   "id": "22d3e3d3",
   "metadata": {},
   "outputs": [
    {
     "name": "stdout",
     "output_type": "stream",
     "text": [
      "-3.03364822859546e25\n"
     ]
    }
   ],
   "source": [
    "print(S[0]-s[0])"
   ]
  },
  {
   "cell_type": "code",
   "execution_count": null,
   "id": "e3757109",
   "metadata": {},
   "outputs": [],
   "source": []
  }
 ],
 "metadata": {
  "kernelspec": {
   "display_name": "SageMath 9.5",
   "language": "sage",
   "name": "sagemath"
  },
  "language_info": {
   "codemirror_mode": {
    "name": "ipython",
    "version": 3
   },
   "file_extension": ".py",
   "mimetype": "text/x-python",
   "name": "python",
   "nbconvert_exporter": "python",
   "pygments_lexer": "ipython3",
   "version": "3.11.2"
  }
 },
 "nbformat": 4,
 "nbformat_minor": 5
}
