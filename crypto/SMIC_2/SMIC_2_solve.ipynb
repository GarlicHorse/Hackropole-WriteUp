{
 "cells": [
  {
   "cell_type": "code",
   "execution_count": 4,
   "id": "2a797201",
   "metadata": {},
   "outputs": [],
   "source": [
    "e = 65537\n",
    "n = 632459103267572196107100983820469021721602147490918660274601\n",
    "c = 63775417045544543594281416329767355155835033510382720735973"
   ]
  },
  {
   "cell_type": "code",
   "execution_count": 5,
   "id": "14781957",
   "metadata": {},
   "outputs": [],
   "source": [
    "def factorisation_par_division_successives(n):\n",
    "    if n < 2:\n",
    "        print(\"Je veux un nombre supérieur à 2\")\n",
    "        return\n",
    "    a = n\n",
    "    p = 2\n",
    "    L = []\n",
    "    while a > 1:\n",
    "        count = 0\n",
    "        while a % p == 0:\n",
    "            a = a // p\n",
    "            count += 1\n",
    "        if count > 0:\n",
    "            L.append((p, count))\n",
    "        p = next_prime(p)\n",
    "    return L"
   ]
  },
  {
   "cell_type": "code",
   "execution_count": 6,
   "id": "ef5da2d4",
   "metadata": {},
   "outputs": [
    {
     "ename": "KeyboardInterrupt",
     "evalue": "",
     "output_type": "error",
     "traceback": [
      "\u001b[0;31m---------------------------------------------------------------------------\u001b[0m",
      "\u001b[0;31mKeyboardInterrupt\u001b[0m                         Traceback (most recent call last)",
      "Cell \u001b[0;32mIn [6], line 1\u001b[0m\n\u001b[0;32m----> 1\u001b[0m \u001b[38;5;28mprint\u001b[39m(\u001b[43mfactorisation_par_division_successives\u001b[49m\u001b[43m(\u001b[49m\u001b[43mn\u001b[49m\u001b[43m)\u001b[49m)\n",
      "Cell \u001b[0;32mIn [5], line 8\u001b[0m, in \u001b[0;36mfactorisation_par_division_successives\u001b[0;34m(n)\u001b[0m\n\u001b[1;32m      6\u001b[0m p \u001b[38;5;241m=\u001b[39m Integer(\u001b[38;5;241m2\u001b[39m)\n\u001b[1;32m      7\u001b[0m L \u001b[38;5;241m=\u001b[39m []\n\u001b[0;32m----> 8\u001b[0m \u001b[38;5;28;01mwhile\u001b[39;00m a \u001b[38;5;241m>\u001b[39m \u001b[43mInteger\u001b[49m\u001b[43m(\u001b[49m\u001b[38;5;241;43m1\u001b[39;49m\u001b[43m)\u001b[49m:\n\u001b[1;32m      9\u001b[0m     count \u001b[38;5;241m=\u001b[39m Integer(\u001b[38;5;241m0\u001b[39m)\n\u001b[1;32m     10\u001b[0m     \u001b[38;5;28;01mwhile\u001b[39;00m a \u001b[38;5;241m%\u001b[39m p \u001b[38;5;241m==\u001b[39m Integer(\u001b[38;5;241m0\u001b[39m):\n",
      "File \u001b[0;32msrc/cysignals/signals.pyx:310\u001b[0m, in \u001b[0;36mcysignals.signals.python_check_interrupt\u001b[0;34m()\u001b[0m\n",
      "\u001b[0;31mKeyboardInterrupt\u001b[0m: "
     ]
    }
   ],
   "source": [
    "print(factorisation_par_division_successives(n))"
   ]
  },
  {
   "cell_type": "code",
   "execution_count": 14,
   "id": "e88c2904",
   "metadata": {},
   "outputs": [
    {
     "name": "stdout",
     "output_type": "stream",
     "text": [
      "650655447295098801102272374367 972033825117160941379425504503\n"
     ]
    }
   ],
   "source": [
    "a,b = factor(n)\n",
    "\n",
    "print(a[0],b[0])"
   ]
  },
  {
   "cell_type": "code",
   "execution_count": 15,
   "id": "788b9b86",
   "metadata": {},
   "outputs": [
    {
     "name": "stdout",
     "output_type": "stream",
     "text": [
      "-321378377822062140277153130136\n"
     ]
    }
   ],
   "source": [
    "print(a[0] - b[0])"
   ]
  },
  {
   "cell_type": "code",
   "execution_count": 1,
   "id": "84a5c838",
   "metadata": {},
   "outputs": [
    {
     "name": "stdout",
     "output_type": "stream",
     "text": [
      "Original: [1, 2, 4, 8, 16, 32, 64, 128]\n",
      "Permuted: [1, 2, 4, 8, 16, 32, 64, 128]\n",
      "Double Permuted: [1, 2, 4, 8, 16, 32, 64, 128]\n",
      "Double Permuted equals Original: True\n"
     ]
    }
   ],
   "source": [
    "def permute(block):\n",
    "    result = [0 for _ in range(8)]\n",
    "    for i in range(8):\n",
    "        x = block[i]\n",
    "        for j in range(8):\n",
    "            result[j] |= (x & 1) << i\n",
    "            x >>= 1\n",
    "    return result\n",
    "\n",
    "# Test permute(permute(x)) = x\n",
    "original = [0b00000001, 0b00000010, 0b00000100, 0b00001000, 0b00010000, 0b00100000, 0b01000000, 0b10000000]\n",
    "permuted = permute(original)\n",
    "double_permuted = permute(permuted)\n",
    "\n",
    "print(\"Original:\", original)\n",
    "print(\"Permuted:\", permuted)\n",
    "print(\"Double Permuted:\", double_permuted)\n",
    "print(\"Double Permuted equals Original:\", double_permuted == original)\n"
   ]
  },
  {
   "cell_type": "code",
   "execution_count": null,
   "id": "df7cf00e",
   "metadata": {},
   "outputs": [],
   "source": []
  }
 ],
 "metadata": {
  "kernelspec": {
   "display_name": "Python 3 (ipykernel)",
   "language": "python",
   "name": "python3"
  },
  "language_info": {
   "codemirror_mode": {
    "name": "ipython",
    "version": 3
   },
   "file_extension": ".py",
   "mimetype": "text/x-python",
   "name": "python",
   "nbconvert_exporter": "python",
   "pygments_lexer": "ipython3",
   "version": "3.11.2"
  }
 },
 "nbformat": 4,
 "nbformat_minor": 5
}
