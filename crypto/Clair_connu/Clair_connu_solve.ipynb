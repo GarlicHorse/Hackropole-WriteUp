{
 "cells": [
  {
   "cell_type": "markdown",
   "id": "cb22f55a",
   "metadata": {},
   "source": [
    "Ce challenge nous propose un chiffrement à masque jetable qui est une méthode de chiffrement jugée parfaite. Nous disposons du chiffré en pièce jointe au format hexadécimal.\n",
    "\n",
    "---\n",
    "L'opération XOR est une opération logique fondamentale en informatique qui suit la table de vérité suivante :\n",
    "\n",
    "$$\n",
    "\\begin{array}{c|c|c}\n",
    "A & B & A \\oplus B \\\\\n",
    "\\hline\n",
    "0 & 0 & 0 \\\\\n",
    "0 & 1 & 1 \\\\\n",
    "1 & 0 & 1 \\\\\n",
    "1 & 1 & 0 \\\\\n",
    "\\end{array}\n",
    "$$\n",
    "\n",
    "### Propriétés de l'opération XOR\n",
    "\n",
    "- **Commutativité** : $A \\oplus B = B \\oplus A$\n",
    "\n",
    "- **Associativité** : $(A \\oplus B) \\oplus C = A \\oplus (B \\oplus C)$\n",
    "\n",
    "---\n",
    "Pour résoudre ce challenge, il faut prêter attention à la génération de la clé :\n",
    "```py\n",
    "key = os.urandom(4) * 20\n",
    "```\n",
    "La fonction ```urandom``` est une fonction générant de l'aléa avec une entropie plus forte que ```random``` donc une méthode statistique est très peu problable pour ce challenge. Cette fonction ```urandom``` génère des octets, ici 4, puis on concatène 20 fois cette séquence de 4 octets pour obtenir la clé.\n",
    "\n",
    "Une méthode possible ici est le bruteforce : en effet 2^32 est possible sur nos ordinateurs modernes en un temps raisonnable mais un challenge CTF ne demanderait pas ça.\n",
    "\n",
    "Pour résoudre le challenge, on remarque que l'on connaît le format du flag : **FCSC{____________}**. Un charactère est encodé sur un octet donc en utilisant les propriétés de l'opérateur xor on a :\n",
    "\n",
    "$Chiffre = cle(0)\\oplus F || cle(1)\\oplus C || cle(2)\\oplus S || cle(3)\\oplus C || ... $ , $cle(i)$ est le $i$-ème octet de la clé et || désigne la concaténation.\n",
    "\n",
    "On retrouve ainsi la clé entière en concaténant 20 fois $cle(0)\\oplus F || cle(1)\\oplus C || cle(2)\\oplus S || cle(3)\\$.\n",
    "\n",
    "Il suffit alors de XOR la clé avec le chiffré pour retrouver le flag.\n",
    "\n"
   ]
  },
  {
   "cell_type": "code",
   "execution_count": 40,
   "id": "46149f68",
   "metadata": {},
   "outputs": [
    {
     "name": "stdout",
     "output_type": "stream",
     "text": [
      "Le flag est : FCSC{3ebfb1b880d802cb96be0bb256f4239c27971310cdfd1842083fbe16b3a2dcf7}.\n"
     ]
    }
   ],
   "source": [
    "from Crypto.Util.number import long_to_bytes\n",
    "from Crypto.Util.strxor import strxor\n",
    "import binascii\n",
    "\n",
    "\n",
    "chiffre = binascii.unhexlify(\"d91b7023e46b4602f93a1202a7601304a7681103fd611502fa684102ad6d1506ab6a1059fc6a1459a8691051af3b4706fb691b54ad681b53f93a4651a93a1001ad3c4006a825\")\n",
    "\n",
    "clair_connu = b'FCSC'\n",
    "\n",
    "clef = strxor(clair_connu, chiffre[:4])*20\n",
    "\n",
    "print(f\"Le flag est : {strxor(clef[:len(chiffre)],chiffre).decode()}.\")"
   ]
  }
 ],
 "metadata": {
  "kernelspec": {
   "display_name": "Python 3 (ipykernel)",
   "language": "python",
   "name": "python3"
  },
  "language_info": {
   "codemirror_mode": {
    "name": "ipython",
    "version": 3
   },
   "file_extension": ".py",
   "mimetype": "text/x-python",
   "name": "python",
   "nbconvert_exporter": "python",
   "pygments_lexer": "ipython3",
   "version": "3.11.2"
  }
 },
 "nbformat": 4,
 "nbformat_minor": 5
}
