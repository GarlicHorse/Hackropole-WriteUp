{
 "cells": [
  {
   "cell_type": "markdown",
   "id": "9e57e3af",
   "metadata": {},
   "source": [
    "Ce challenge est consiste à chiffrer un message utilisant l'algorithm RSA. On se réfère à la page wikipédia de RSA : https://fr.wikipedia.org/wiki/Chiffrement_RSA.\n",
    "\n",
    "---\n",
    "**Chiffrement**\n",
    "\n",
    "Si $M$ < $N$ avec $M$ et $N$ le message et le module respectivement.\n",
    "\n",
    "$C \\equiv M^e \\pmod N$\n",
    "\n",
    "---\n",
    "On écrit alors le code python suivant:"
   ]
  },
  {
   "cell_type": "code",
   "execution_count": 3,
   "id": "eaf51822",
   "metadata": {},
   "outputs": [
    {
     "name": "stdout",
     "output_type": "stream",
     "text": [
      "Le flag est : FCSC{43038584369552603099759673610132404954603129182365447300530480398332322363741719021427218282885888340427764617212360258625034642827465292074914623418386094167402748099928035759712951543068670333972608099203444196434250100760907677561414593941829935308834430903916897564884969367373487895789351212840634163159}\n"
     ]
    }
   ],
   "source": [
    "(n, e) = (115835143529011985466946897371659768942707075251385995517214050122410566973563965811168663559614636580713282451012293945169200873869218782362296940822448735543079113463384249819134147369806470560382457164633045830912243978622870542174381898756721599280783431283777436949655777218920351233463535926738440504017, 65537)\n",
    "m = 29092715682136811148741896992216382887663205723233009270907036164616385404410946789697601633832261873953783070225717396137755866976801871184236363551686364362312702985660271388900637527644505521559662128091418418029535347788018938016105431888876506254626085450904980887492319714444847439547681555866496873380\n",
    "\n",
    "assert m < n\n",
    "\n",
    "c = pow(m,e,n)\n",
    "\n",
    "print(\"Le flag est : FCSC{\"+str(c)+\"}\")"
   ]
  }
 ],
 "metadata": {
  "kernelspec": {
   "display_name": "Python 3 (ipykernel)",
   "language": "python",
   "name": "python3"
  },
  "language_info": {
   "codemirror_mode": {
    "name": "ipython",
    "version": 3
   },
   "file_extension": ".py",
   "mimetype": "text/x-python",
   "name": "python",
   "nbconvert_exporter": "python",
   "pygments_lexer": "ipython3",
   "version": "3.11.2"
  }
 },
 "nbformat": 4,
 "nbformat_minor": 5
}
